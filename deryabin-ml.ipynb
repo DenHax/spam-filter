{
 "cells": [
  {
   "cell_type": "markdown",
   "id": "dd04100e-670b-40fd-8708-0267d6e64135",
   "metadata": {},
   "source": [
    "# Д.А., Machine Learning.\n",
    "## Задача: обучение модели для определения спама.\n",
    "\n",
    "### Условия.\n",
    "Имеется имеется два датасета: тренировочный и тестовый. В тренировочном имеется два столбца: text_type - столбец, определяющая тип сообщения, text - текст сообщения. В тестовом есть только столбец из текстов сообщения.\n",
    "\n",
    "### План.\n",
    "1. Получим данные из файла тренировочного датасета и обработаем, убрав элементы, не имеющие флага, если они есть.\n",
    "2. Векторизировать данные.\n",
    "3. Обучить модель.\n",
    "4. Обработать данные из тестового датасета и сохранить результаты обработки в файл разрешения .csv"
   ]
  },
  {
   "cell_type": "markdown",
   "id": "49346d47-1e4a-4408-82b9-afccd2abe378",
   "metadata": {},
   "source": [
    "## 1. Первый споособ. TF-IDF.\n",
    "\n",
    "1. Загрузим все необходимые модули и получим данные из файла, после чего посмотрим на размеры датасета (количество строк и столбцов)"
   ]
  },
  {
   "cell_type": "code",
   "execution_count": 17,
   "id": "49739c3c-f38c-43ac-8687-daf3742591cc",
   "metadata": {},
   "outputs": [
    {
     "name": "stdout",
     "output_type": "stream",
     "text": [
      "(16278, 2)\n"
     ]
    }
   ],
   "source": [
    "import pandas as pd\n",
    "import matplotlib.pyplot as plt\n",
    "import seaborn as sns\n",
    "\n",
    "train_data = pd.read_csv(\"train_spam.csv\")\n",
    "\n",
    "print(train_data.shape)"
   ]
  },
  {
   "cell_type": "markdown",
   "id": "bac9b30a-66c6-4cfd-b95e-01f94df2d0e2",
   "metadata": {},
   "source": [
    "Выведем несколько элементов таблиы."
   ]
  },
  {
   "cell_type": "code",
   "execution_count": 18,
   "id": "be02a030-8bfe-4b9e-8e30-cd7d829366d3",
   "metadata": {},
   "outputs": [
    {
     "data": {
      "text/html": [
       "<div>\n",
       "<style scoped>\n",
       "    .dataframe tbody tr th:only-of-type {\n",
       "        vertical-align: middle;\n",
       "    }\n",
       "\n",
       "    .dataframe tbody tr th {\n",
       "        vertical-align: top;\n",
       "    }\n",
       "\n",
       "    .dataframe thead th {\n",
       "        text-align: right;\n",
       "    }\n",
       "</style>\n",
       "<table border=\"1\" class=\"dataframe\">\n",
       "  <thead>\n",
       "    <tr style=\"text-align: right;\">\n",
       "      <th></th>\n",
       "      <th>text_type</th>\n",
       "      <th>text</th>\n",
       "    </tr>\n",
       "  </thead>\n",
       "  <tbody>\n",
       "    <tr>\n",
       "      <th>0</th>\n",
       "      <td>ham</td>\n",
       "      <td>make sure alex knows his birthday is over in f...</td>\n",
       "    </tr>\n",
       "    <tr>\n",
       "      <th>1</th>\n",
       "      <td>ham</td>\n",
       "      <td>a resume for john lavorato thanks vince i will...</td>\n",
       "    </tr>\n",
       "    <tr>\n",
       "      <th>2</th>\n",
       "      <td>spam</td>\n",
       "      <td>plzz visit my website moviesgodml to get all m...</td>\n",
       "    </tr>\n",
       "    <tr>\n",
       "      <th>3</th>\n",
       "      <td>spam</td>\n",
       "      <td>urgent your mobile number has been awarded wit...</td>\n",
       "    </tr>\n",
       "    <tr>\n",
       "      <th>4</th>\n",
       "      <td>ham</td>\n",
       "      <td>overview of hr associates analyst project per ...</td>\n",
       "    </tr>\n",
       "  </tbody>\n",
       "</table>\n",
       "</div>"
      ],
      "text/plain": [
       "  text_type                                               text\n",
       "0       ham  make sure alex knows his birthday is over in f...\n",
       "1       ham  a resume for john lavorato thanks vince i will...\n",
       "2      spam  plzz visit my website moviesgodml to get all m...\n",
       "3      spam  urgent your mobile number has been awarded wit...\n",
       "4       ham  overview of hr associates analyst project per ..."
      ]
     },
     "execution_count": 18,
     "metadata": {},
     "output_type": "execute_result"
    }
   ],
   "source": [
    "train_data.head()"
   ]
  },
  {
   "cell_type": "markdown",
   "id": "dbfad24d-0d19-4f72-97ef-de8b556f90fc",
   "metadata": {},
   "source": [
    "Определим уникальные значения флагов в датасете для дальнейшего удаления неопределенных сообщений"
   ]
  },
  {
   "cell_type": "code",
   "execution_count": 19,
   "id": "7df55b5f-2281-4bd4-8dd1-35a05761af4d",
   "metadata": {},
   "outputs": [
    {
     "name": "stdout",
     "output_type": "stream",
     "text": [
      "['ham' 'spam']\n"
     ]
    }
   ],
   "source": [
    "unique_lables = train_data['text_type'].unique()\n",
    "print(unique_lables)"
   ]
  },
  {
   "cell_type": "code",
   "execution_count": 20,
   "id": "6ea9f601-ba35-43de-9f0f-10c1f0dd2608",
   "metadata": {},
   "outputs": [
    {
     "data": {
      "text/plain": [
       "(16278, 2)"
      ]
     },
     "execution_count": 20,
     "metadata": {},
     "output_type": "execute_result"
    }
   ],
   "source": [
    "train_data = train_data.dropna(subset=['text_type'])\n",
    "train_data = train_data[train_data['text_type'].isin(unique_lables)]\n",
    "train_data['text_type'].unique()\n",
    "train_data.shape"
   ]
  },
  {
   "cell_type": "markdown",
   "id": "5cb17d14-4496-47fc-a4d2-a15014104fb9",
   "metadata": {},
   "source": [
    "В данном случае ничего не изменилось - данные подобраны без пропущенных флагов."
   ]
  },
  {
   "cell_type": "markdown",
   "id": "b161d2f4-601c-4028-b5d4-eabf40364f77",
   "metadata": {},
   "source": [
    "Посмотрим на распределение спама и не спама в датасете."
   ]
  },
  {
   "cell_type": "code",
   "execution_count": 21,
   "id": "c2f42c37-7f12-4675-8e0c-98068aa2c35d",
   "metadata": {},
   "outputs": [
    {
     "name": "stdout",
     "output_type": "stream",
     "text": [
      "Распределение классов:\n",
      "text_type\n",
      "ham     11469\n",
      "spam     4809\n",
      "Name: count, dtype: int64\n"
     ]
    },
    {
     "data": {
      "image/png": "[encoded data removed]",
      "text/plain": [
       "<Figure size 640x480 with 1 Axes>"
      ]
     },
     "metadata": {},
     "output_type": "display_data"
    }
   ],
   "source": [
    "class_counts = train_data['text_type'].value_counts()\n",
    "print(\"Распределение классов:\")\n",
    "print(class_counts)\n",
    "\n",
    "# Визуализация распределения классов\n",
    "sns.countplot(x='text_type', data=train_data)\n",
    "plt.title(\"Распределение классов (спам/не спам)\")\n",
    "plt.show()"
   ]
  },
  {
   "cell_type": "markdown",
   "id": "88fa4d0e-8a83-48a0-ac08-8c20d016c073",
   "metadata": {},
   "source": [
    "2. Начинаем векторизацию.\n",
    "Перед началом векторизации, то есть приведения текста в числовые векторы, для начала обработаем текст, приведя все буквы к одному виду. Текст будет представлять собой набор строчных латинских (английских) букв, среди них не будет общих слов, таких как or, but, etc.\n",
    "В данном случае для векторизации будет использован метод TF-IDF, учитывающий частоту слова и его значимость по отношению к другим словам текста."
   ]
  },
  {
   "cell_type": "code",
   "execution_count": 22,
   "id": "19e8d6ed-4ecc-49f6-a953-34bf520076b5",
   "metadata": {},
   "outputs": [],
   "source": [
    "from sklearn.feature_extraction.text import TfidfVectorizer\n",
    "from sklearn.model_selection import train_test_split\n",
    "\n",
    "tfidf_vectorizer = TfidfVectorizer(stop_words='english', lowercase=True)\n",
    "X = tfidf_vectorizer.fit_transform(train_data['text'])\n",
    "y = train_data['text_type']\n",
    "\n",
    "X_train, X_test, y_train, y_test = train_test_split(X, y, test_size=0.2, random_state=42)"
   ]
  },
  {
   "cell_type": "code",
   "execution_count": 23,
   "id": "86af5210-184f-4daa-a720-ab494c52e948",
   "metadata": {},
   "outputs": [],
   "source": [
    "from sklearn.naive_bayes import MultinomialNB\n",
    "from sklearn.metrics import classification_report, accuracy_score\n",
    "\n",
    "# Обучение модели\n",
    "model = MultinomialNB()\n",
    "model.fit(X_train, y_train)\n",
    "\n",
    "# Оценка модели на тестовых данных\n",
    "y_pred = model.predict(X_test)"
   ]
  },
  {
   "cell_type": "markdown",
   "id": "21fb605e-0e29-4106-be8d-60069f60a45f",
   "metadata": {},
   "source": [
    "Итоги классификации и полученная точность:"
   ]
  },
  {
   "cell_type": "code",
   "execution_count": 24,
   "id": "cad153eb-6bbf-418f-a14e-19081011ee3f",
   "metadata": {},
   "outputs": [
    {
     "name": "stdout",
     "output_type": "stream",
     "text": [
      "              precision    recall  f1-score   support\n",
      "\n",
      "         ham       0.87      0.98      0.93      2321\n",
      "        spam       0.94      0.65      0.77       935\n",
      "\n",
      "    accuracy                           0.89      3256\n",
      "   macro avg       0.90      0.82      0.85      3256\n",
      "weighted avg       0.89      0.89      0.88      3256\n",
      "\n",
      "Точность: 0.8866707616707616\n"
     ]
    }
   ],
   "source": [
    "print(classification_report(y_test, y_pred))\n",
    "print(\"Точность:\", accuracy_score(y_test, y_pred))"
   ]
  },
  {
   "cell_type": "code",
   "execution_count": 25,
   "id": "d1a2f7a1-43ca-4dd2-8169-b3a0c4b2fb69",
   "metadata": {},
   "outputs": [],
   "source": [
    "test_data = pd.read_csv(\"test_spam.csv\")\n",
    "\n",
    "test_vectorized = tfidf_vectorizer.transform(test_data['text'])\n",
    "test_predictions = model.predict(test_vectorized)\n",
    "\n",
    "test_data['score'] = test_predictions\n",
    "result_df = test_data[['score', 'text']]\n",
    "\n",
    "result_df.to_csv(\"scored_results_tf.csv\", index=False)"
   ]
  },
  {
   "cell_type": "code",
   "execution_count": 26,
   "id": "ce9f4374-80c4-4550-b431-cc6340b23190",
   "metadata": {},
   "outputs": [
    {
     "name": "stdout",
     "output_type": "stream",
     "text": [
      "Распределение классов:\n",
      "score\n",
      "ham     3255\n",
      "spam     815\n",
      "Name: count, dtype: int64\n"
     ]
    },
    {
     "data": {
      "image/png": "[encoded data removed]",
      "text/plain": [
       "<Figure size 640x480 with 1 Axes>"
      ]
     },
     "metadata": {},
     "output_type": "display_data"
    }
   ],
   "source": [
    "scored_data = pd.read_csv(\"scored_results_tf.csv\")\n",
    "class_counts = scored_data['score'].value_counts()\n",
    "print(\"Распределение классов:\")\n",
    "print(class_counts)\n",
    "\n",
    "sns.countplot(x='score', data=scored_data)\n",
    "plt.title(\"Распределение классов (спам/не спам)\")\n",
    "plt.show()"
   ]
  },
  {
   "cell_type": "markdown",
   "id": "80ff07dd-352b-4edd-b3dd-e9d656bb9ed6",
   "metadata": {},
   "source": [
    "### Второй способ. Метод текстовых эмбеддингов.\n",
    "\n",
    "1."
   ]
  },
  {
   "cell_type": "code",
   "execution_count": 49,
   "id": "9535d84a-0367-4e3d-b465-cf36be5e445c",
   "metadata": {},
   "outputs": [
    {
     "data": {
      "text/html": [
       "<div>\n",
       "<style scoped>\n",
       "    .dataframe tbody tr th:only-of-type {\n",
       "        vertical-align: middle;\n",
       "    }\n",
       "\n",
       "    .dataframe tbody tr th {\n",
       "        vertical-align: top;\n",
       "    }\n",
       "\n",
       "    .dataframe thead th {\n",
       "        text-align: right;\n",
       "    }\n",
       "</style>\n",
       "<table border=\"1\" class=\"dataframe\">\n",
       "  <thead>\n",
       "    <tr style=\"text-align: right;\">\n",
       "      <th></th>\n",
       "      <th>text_type</th>\n",
       "      <th>text</th>\n",
       "    </tr>\n",
       "  </thead>\n",
       "  <tbody>\n",
       "    <tr>\n",
       "      <th>0</th>\n",
       "      <td>ham</td>\n",
       "      <td>make sure alex knows his birthday is over in f...</td>\n",
       "    </tr>\n",
       "    <tr>\n",
       "      <th>1</th>\n",
       "      <td>ham</td>\n",
       "      <td>a resume for john lavorato thanks vince i will...</td>\n",
       "    </tr>\n",
       "    <tr>\n",
       "      <th>2</th>\n",
       "      <td>spam</td>\n",
       "      <td>plzz visit my website moviesgodml to get all m...</td>\n",
       "    </tr>\n",
       "    <tr>\n",
       "      <th>3</th>\n",
       "      <td>spam</td>\n",
       "      <td>urgent your mobile number has been awarded wit...</td>\n",
       "    </tr>\n",
       "    <tr>\n",
       "      <th>4</th>\n",
       "      <td>ham</td>\n",
       "      <td>overview of hr associates analyst project per ...</td>\n",
       "    </tr>\n",
       "  </tbody>\n",
       "</table>\n",
       "</div>"
      ],
      "text/plain": [
       "  text_type                                               text\n",
       "0       ham  make sure alex knows his birthday is over in f...\n",
       "1       ham  a resume for john lavorato thanks vince i will...\n",
       "2      spam  plzz visit my website moviesgodml to get all m...\n",
       "3      spam  urgent your mobile number has been awarded wit...\n",
       "4       ham  overview of hr associates analyst project per ..."
      ]
     },
     "execution_count": 49,
     "metadata": {},
     "output_type": "execute_result"
    }
   ],
   "source": [
    "train_df = pd.read_csv('train_spam.csv')\n",
    "test_df = pd.read_csv('test_spam.csv')\n",
    "\n",
    "train_df.head()"
   ]
  },
  {
   "cell_type": "code",
   "execution_count": 48,
   "id": "442dde5d-d026-4d62-a8b8-356971f2a3c9",
   "metadata": {},
   "outputs": [
    {
     "data": {
      "text/html": [
       "<div>\n",
       "<style scoped>\n",
       "    .dataframe tbody tr th:only-of-type {\n",
       "        vertical-align: middle;\n",
       "    }\n",
       "\n",
       "    .dataframe tbody tr th {\n",
       "        vertical-align: top;\n",
       "    }\n",
       "\n",
       "    .dataframe thead th {\n",
       "        text-align: right;\n",
       "    }\n",
       "</style>\n",
       "<table border=\"1\" class=\"dataframe\">\n",
       "  <thead>\n",
       "    <tr style=\"text-align: right;\">\n",
       "      <th></th>\n",
       "      <th>text</th>\n",
       "    </tr>\n",
       "  </thead>\n",
       "  <tbody>\n",
       "    <tr>\n",
       "      <th>0</th>\n",
       "      <td>j jim whitehead ejw cse ucsc edu writes j you ...</td>\n",
       "    </tr>\n",
       "    <tr>\n",
       "      <th>1</th>\n",
       "      <td>original message from bitbitch magnesium net p...</td>\n",
       "    </tr>\n",
       "    <tr>\n",
       "      <th>2</th>\n",
       "      <td>java for managers vince durasoft who just taug...</td>\n",
       "    </tr>\n",
       "    <tr>\n",
       "      <th>3</th>\n",
       "      <td>there is a youtuber name saiman says</td>\n",
       "    </tr>\n",
       "    <tr>\n",
       "      <th>4</th>\n",
       "      <td>underpriced issue with high return on equity t...</td>\n",
       "    </tr>\n",
       "  </tbody>\n",
       "</table>\n",
       "</div>"
      ],
      "text/plain": [
       "                                                text\n",
       "0  j jim whitehead ejw cse ucsc edu writes j you ...\n",
       "1  original message from bitbitch magnesium net p...\n",
       "2  java for managers vince durasoft who just taug...\n",
       "3               there is a youtuber name saiman says\n",
       "4  underpriced issue with high return on equity t..."
      ]
     },
     "execution_count": 48,
     "metadata": {},
     "output_type": "execute_result"
    }
   ],
   "source": [
    "test_df.head()"
   ]
  },
  {
   "cell_type": "code",
   "execution_count": 47,
   "id": "23fb85e4-ea49-4363-b0d0-0a8113450823",
   "metadata": {},
   "outputs": [
    {
     "data": {
      "text/plain": [
       "text_type\n",
       "ham     11469\n",
       "spam     4809\n",
       "Name: count, dtype: int64"
      ]
     },
     "execution_count": 47,
     "metadata": {},
     "output_type": "execute_result"
    }
   ],
   "source": [
    "\n",
    "train_df['text_type'].value_counts()"
   ]
  },
  {
   "cell_type": "code",
   "execution_count": 30,
   "id": "04d62aa9-30e6-4bcd-9398-a5812f208f7f",
   "metadata": {},
   "outputs": [
    {
     "name": "stdout",
     "output_type": "stream",
     "text": [
      "text_type    0\n",
      "text         0\n",
      "dtype: int64\n",
      "text    0\n",
      "dtype: int64\n"
     ]
    }
   ],
   "source": [
    "print(train_df.isnull().sum())\n",
    "print(test_df.isnull().sum())"
   ]
  },
  {
   "cell_type": "code",
   "execution_count": 38,
   "id": "130d1162-96e8-484b-9aff-0110bb2571e0",
   "metadata": {},
   "outputs": [
    {
     "data": {
      "text/html": [
       "<div>\n",
       "<style scoped>\n",
       "    .dataframe tbody tr th:only-of-type {\n",
       "        vertical-align: middle;\n",
       "    }\n",
       "\n",
       "    .dataframe tbody tr th {\n",
       "        vertical-align: top;\n",
       "    }\n",
       "\n",
       "    .dataframe thead th {\n",
       "        text-align: right;\n",
       "    }\n",
       "</style>\n",
       "<table border=\"1\" class=\"dataframe\">\n",
       "  <thead>\n",
       "    <tr style=\"text-align: right;\">\n",
       "      <th></th>\n",
       "      <th>text</th>\n",
       "      <th>tokens</th>\n",
       "    </tr>\n",
       "  </thead>\n",
       "  <tbody>\n",
       "    <tr>\n",
       "      <th>0</th>\n",
       "      <td>j jim whitehead ejw cse ucsc edu writes j you ...</td>\n",
       "      <td>[j, jim, whitehead, ejw, cse, ucsc, edu, write...</td>\n",
       "    </tr>\n",
       "    <tr>\n",
       "      <th>1</th>\n",
       "      <td>original message from bitbitch magnesium net p...</td>\n",
       "      <td>[original, message, bitbitch, magnesium, net, ...</td>\n",
       "    </tr>\n",
       "    <tr>\n",
       "      <th>2</th>\n",
       "      <td>java for managers vince durasoft who just taug...</td>\n",
       "      <td>[java, managers, vince, durasoft, taught, java...</td>\n",
       "    </tr>\n",
       "    <tr>\n",
       "      <th>3</th>\n",
       "      <td>there is a youtuber name saiman says</td>\n",
       "      <td>[youtuber, name, saiman, says]</td>\n",
       "    </tr>\n",
       "    <tr>\n",
       "      <th>4</th>\n",
       "      <td>underpriced issue with high return on equity t...</td>\n",
       "      <td>[underpriced, issue, high, return, equity, oil...</td>\n",
       "    </tr>\n",
       "  </tbody>\n",
       "</table>\n",
       "</div>"
      ],
      "text/plain": [
       "                                                text  \\\n",
       "0  j jim whitehead ejw cse ucsc edu writes j you ...   \n",
       "1  original message from bitbitch magnesium net p...   \n",
       "2  java for managers vince durasoft who just taug...   \n",
       "3               there is a youtuber name saiman says   \n",
       "4  underpriced issue with high return on equity t...   \n",
       "\n",
       "                                              tokens  \n",
       "0  [j, jim, whitehead, ejw, cse, ucsc, edu, write...  \n",
       "1  [original, message, bitbitch, magnesium, net, ...  \n",
       "2  [java, managers, vince, durasoft, taught, java...  \n",
       "3                     [youtuber, name, saiman, says]  \n",
       "4  [underpriced, issue, high, return, equity, oil...  "
      ]
     },
     "execution_count": 38,
     "metadata": {},
     "output_type": "execute_result"
    }
   ],
   "source": [
    "import re\n",
    "import nltk\n",
    "from nltk.corpus import stopwords\n",
    "from nltk.tokenize import word_tokenize\n",
    "from sklearn.model_selection import train_test_split\n",
    "from sklearn.pipeline import Pipeline\n",
    "from sklearn.linear_model import LogisticRegression\n",
    "from sklearn.ensemble import RandomForestClassifier\n",
    "from sklearn.metrics import accuracy_score, classification_report\n",
    "import gensim\n",
    "\n",
    "# Удаление стоп-слов и приведение текста к нижнему регистру\n",
    "stop_words = set(stopwords.words('english'))\n",
    "\n",
    "def preprocess_text(text):\n",
    "    # Приведение к нижнему регистру\n",
    "    text = text.lower()\n",
    "    # Удаление знаков препинания и чисел\n",
    "    text = re.sub(r'[^a-z\\s]', '', text)\n",
    "    # Токенизация\n",
    "    words = word_tokenize(text)\n",
    "    # Удаление стоп-слов\n",
    "    words = [word for word in words if word not in stop_words]\n",
    "    return words\n",
    "\n",
    "# Применение предобработки\n",
    "train_df['tokens'] = train_df['text'].apply(preprocess_text)\n",
    "test_df['tokens'] = test_df['text'].apply(preprocess_text)\n",
    "\n",
    "train_df.head()\n",
    "test_df.head()"
   ]
  },
  {
   "cell_type": "code",
   "execution_count": 40,
   "id": "22f2c36b-22f1-44cf-9e11-7856c910058a",
   "metadata": {},
   "outputs": [],
   "source": [
    "w2v_model = gensim.models.Word2Vec(train_df['tokens'], vector_size=100, window=5, min_count=1, workers=4)\n",
    "\n",
    "def get_message_vector(tokens):\n",
    "    # Берем среднее по всем словам в сообщении\n",
    "    vectors = [w2v_model.wv[word] for word in tokens if word in w2v_model.wv]\n",
    "    if vectors:\n",
    "        return sum(vectors) / len(vectors)\n",
    "    else:\n",
    "        # Если нет подходящих слов, возвращаем вектор нулей\n",
    "        return [0] * w2v_model.vector_size\n"
   ]
  },
  {
   "cell_type": "code",
   "execution_count": 41,
   "id": "7eb1e89c-1447-433b-9fa9-7614ba504add",
   "metadata": {},
   "outputs": [
    {
     "name": "stdout",
     "output_type": "stream",
     "text": [
      "Accuracy: 0.8427518427518428\n",
      "Classification Report:\n",
      "               precision    recall  f1-score   support\n",
      "\n",
      "         ham       0.86      0.93      0.89      2321\n",
      "        spam       0.78      0.62      0.69       935\n",
      "\n",
      "    accuracy                           0.84      3256\n",
      "   macro avg       0.82      0.78      0.79      3256\n",
      "weighted avg       0.84      0.84      0.84      3256\n",
      "\n"
     ]
    }
   ],
   "source": [
    "train_df['vector'] = train_df['tokens'].apply(get_message_vector)\n",
    "test_df['vector'] = test_df['tokens'].apply(get_message_vector)\n",
    "\n",
    "X_train, X_val, y_train, y_val = train_test_split(\n",
    "    train_df['vector'].tolist(),\n",
    "    train_df['text_type'],\n",
    "    test_size=0.2,\n",
    "    random_state=42\n",
    ")\n",
    "j\n",
    "classifier = LogisticRegression()\n",
    "classifier.fit(X_train, y_train)\n",
    "\n",
    "y_pred = classifier.predict(X_val)\n",
    "print(\"Accuracy:\", accuracy_score(y_val, y_pred))\n",
    "print(\"Classification Report:\\n\", classification_report(y_val, y_pred))"
   ]
  },
  {
   "cell_type": "code",
   "execution_count": 44,
   "id": "31ee6c3b-680c-4905-9a1b-7279e5ec7291",
   "metadata": {},
   "outputs": [],
   "source": [
    "test_scores = classifier.predict_proba(test_df['vector'].tolist())[:, 1]\n",
    "\n",
    "result_df = pd.DataFrame({\n",
    "    'score': test_scores,\n",
    "    'text': test_df['text']\n",
    "})\n",
    "\n",
    "result_df.head()\n",
    "\n",
    "result_df.to_csv('scored_results_w2v.csv', index=False)"
   ]
  },
  {
   "cell_type": "code",
   "execution_count": 45,
   "id": "d6a4c916-1dbd-4278-a1ce-d89e812205e5",
   "metadata": {},
   "outputs": [
    {
     "name": "stdout",
     "output_type": "stream",
     "text": [
      "Распределение классов:\n",
      "score\n",
      "0.463234    84\n",
      "0.526987     3\n",
      "0.000002     3\n",
      "0.340287     3\n",
      "0.999997     3\n",
      "            ..\n",
      "0.004818     1\n",
      "0.245809     1\n",
      "0.075457     1\n",
      "0.212682     1\n",
      "0.007252     1\n",
      "Name: count, Length: 3956, dtype: int64\n"
     ]
    },
    {
     "data": {
      "image/png": "[encoded data removed]",
      "text/plain": [
       "<Figure size 640x480 with 1 Axes>"
      ]
     },
     "metadata": {},
     "output_type": "display_data"
    }
   ],
   "source": [
    "scored_data = pd.read_csv(\"scored_results_w2v.csv\")\n",
    "class_counts = scored_data['score'].value_counts()\n",
    "print(\"Распределение классов:\")\n",
    "print(class_counts)\n",
    "\n",
    "sns.countplot(x='score', data=scored_data)\n",
    "plt.title(\"Распределение классов (спам/не спам)\")\n",
    "plt.show()"
   ]
  }
 ],
 "metadata": {
  "kernelspec": {
   "display_name": "Python 3 (ipykernel)",
   "language": "python",
   "name": "python3"
  },
  "language_info": {
   "codemirror_mode": {
    "name": "ipython",
    "version": 3
   },
   "file_extension": ".py",
   "mimetype": "text/x-python",
   "name": "python",
   "nbconvert_exporter": "python",
   "pygments_lexer": "ipython3",
   "version": "3.12.2"
  }
 },
 "nbformat": 4,
 "nbformat_minor": 5
}
