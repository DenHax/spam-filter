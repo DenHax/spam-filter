{
 "cells": [
  {
   "cell_type": "markdown",
   "id": "dd04100e-670b-40fd-8708-0267d6e64135",
   "metadata": {},
   "source": [
    "# Д.А., Machine Learning.\n",
    "## Задача: обучение модели для определения спама.\n",
    "\n",
    "### Условия.\n",
    "Имеется имеется два датасета: тренировочный и тестовый. В тренировочном имеется два столбца: text_type - столбец, определяющая тип сообщения, text - текст сообщения. В тестовом есть только столбец из текстов сообщения.\n",
    "\n",
    "### План.\n",
    "1. Получим данные из файла тренировочного датасета и обработаем, убрав элементы, не имеющие флага, если они есть.\n",
    "2. Векторизировать данные.\n",
    "3. Обучить модель.\n",
    "4. Обработать данные из тестового датасета и сохранить результаты обработки в файл разрешения .csv"
   ]
  },
  {
   "cell_type": "markdown",
   "id": "49346d47-1e4a-4408-82b9-afccd2abe378",
   "metadata": {},
   "source": [
    "1. Загрузим все необходимые модули и получим данные из файла, после чего посмотрим на размеры датасета (количество строк и столбцов)"
   ]
  },
  {
   "cell_type": "code",
   "execution_count": 84,
   "id": "49739c3c-f38c-43ac-8687-daf3742591cc",
   "metadata": {},
   "outputs": [
    {
     "name": "stdout",
     "output_type": "stream",
     "text": [
      "(16278, 2)\n"
     ]
    }
   ],
   "source": [
    "import pandas as pd\n",
    "import matplotlib.pyplot as plt\n",
    "import seaborn as sns\n",
    "\n",
    "train_data = pd.read_csv(\"train_spam.csv\")\n",
    "# Основные статистики\n",
    "print(train_data.shape)"
   ]
  },
  {
   "cell_type": "markdown",
   "id": "bac9b30a-66c6-4cfd-b95e-01f94df2d0e2",
   "metadata": {},
   "source": [
    "Выведем несколько элементов таблиы."
   ]
  },
  {
   "cell_type": "code",
   "execution_count": 85,
   "id": "be02a030-8bfe-4b9e-8e30-cd7d829366d3",
   "metadata": {},
   "outputs": [
    {
     "data": {
      "text/html": [
       "<div>\n",
       "<style scoped>\n",
       "    .dataframe tbody tr th:only-of-type {\n",
       "        vertical-align: middle;\n",
       "    }\n",
       "\n",
       "    .dataframe tbody tr th {\n",
       "        vertical-align: top;\n",
       "    }\n",
       "\n",
       "    .dataframe thead th {\n",
       "        text-align: right;\n",
       "    }\n",
       "</style>\n",
       "<table border=\"1\" class=\"dataframe\">\n",
       "  <thead>\n",
       "    <tr style=\"text-align: right;\">\n",
       "      <th></th>\n",
       "      <th>score</th>\n",
       "      <th>text</th>\n",
       "    </tr>\n",
       "  </thead>\n",
       "  <tbody>\n",
       "    <tr>\n",
       "      <th>0</th>\n",
       "      <td>ham</td>\n",
       "      <td>j jim whitehead ejw cse ucsc edu writes j you ...</td>\n",
       "    </tr>\n",
       "    <tr>\n",
       "      <th>1</th>\n",
       "      <td>ham</td>\n",
       "      <td>original message from bitbitch magnesium net p...</td>\n",
       "    </tr>\n",
       "    <tr>\n",
       "      <th>2</th>\n",
       "      <td>ham</td>\n",
       "      <td>java for managers vince durasoft who just taug...</td>\n",
       "    </tr>\n",
       "    <tr>\n",
       "      <th>3</th>\n",
       "      <td>ham</td>\n",
       "      <td>there is a youtuber name saiman says</td>\n",
       "    </tr>\n",
       "    <tr>\n",
       "      <th>4</th>\n",
       "      <td>ham</td>\n",
       "      <td>underpriced issue with high return on equity t...</td>\n",
       "    </tr>\n",
       "  </tbody>\n",
       "</table>\n",
       "</div>"
      ],
      "text/plain": [
       "  score                                               text\n",
       "0   ham  j jim whitehead ejw cse ucsc edu writes j you ...\n",
       "1   ham  original message from bitbitch magnesium net p...\n",
       "2   ham  java for managers vince durasoft who just taug...\n",
       "3   ham               there is a youtuber name saiman says\n",
       "4   ham  underpriced issue with high return on equity t..."
      ]
     },
     "execution_count": 85,
     "metadata": {},
     "output_type": "execute_result"
    }
   ],
   "source": [
    "labeled_data.head()"
   ]
  },
  {
   "cell_type": "markdown",
   "id": "dbfad24d-0d19-4f72-97ef-de8b556f90fc",
   "metadata": {},
   "source": [
    "Определим уникальные значения флагов в датасете для дальнейшего удаления неопределенных сообщений"
   ]
  },
  {
   "cell_type": "code",
   "execution_count": 86,
   "id": "7df55b5f-2281-4bd4-8dd1-35a05761af4d",
   "metadata": {},
   "outputs": [
    {
     "name": "stdout",
     "output_type": "stream",
     "text": [
      "['ham' 'spam']\n"
     ]
    }
   ],
   "source": [
    "unique_lables = train_data['text_type'].unique()\n",
    "print(unique_lables)\n"
   ]
  },
  {
   "cell_type": "code",
   "execution_count": 87,
   "id": "6ea9f601-ba35-43de-9f0f-10c1f0dd2608",
   "metadata": {},
   "outputs": [
    {
     "data": {
      "text/plain": [
       "(16278, 2)"
      ]
     },
     "execution_count": 87,
     "metadata": {},
     "output_type": "execute_result"
    }
   ],
   "source": [
    "train_data = train_data.dropna(subset=['text_type'])\n",
    "train_data = train_data[train_data['text_type'].isin(unique_lables)]\n",
    "train_data['text_type'].unique()\n",
    "train_data.shape"
   ]
  },
  {
   "cell_type": "markdown",
   "id": "5cb17d14-4496-47fc-a4d2-a15014104fb9",
   "metadata": {},
   "source": [
    "В данном случае ничего не изменилось - данные подобраны без пропущенных флагов."
   ]
  },
  {
   "cell_type": "markdown",
   "id": "b161d2f4-601c-4028-b5d4-eabf40364f77",
   "metadata": {},
   "source": [
    "Посмотрим на распределение спама и не спама в датасете."
   ]
  },
  {
   "cell_type": "code",
   "execution_count": 88,
   "id": "c2f42c37-7f12-4675-8e0c-98068aa2c35d",
   "metadata": {},
   "outputs": [
    {
     "name": "stdout",
     "output_type": "stream",
     "text": [
      "Распределение классов:\n",
      "text_type\n",
      "ham     11469\n",
      "spam     4809\n",
      "Name: count, dtype: int64\n"
     ]
    },
    {
     "data": {
      "image/png": "[encoded data removed]",
      "text/plain": [
       "<Figure size 640x480 with 1 Axes>"
      ]
     },
     "metadata": {},
     "output_type": "display_data"
    }
   ],
   "source": [
    "class_counts = train_data['text_type'].value_counts()\n",
    "print(\"Распределение классов:\")\n",
    "print(class_counts)\n",
    "\n",
    "# Визуализация распределения классов\n",
    "sns.countplot(x='text_type', data=train_data)\n",
    "plt.title(\"Распределение классов (спам/не спам)\")\n",
    "plt.show()"
   ]
  },
  {
   "cell_type": "markdown",
   "id": "88fa4d0e-8a83-48a0-ac08-8c20d016c073",
   "metadata": {},
   "source": [
    "2. Начинаем векторизацию.\n",
    "Перед началом векторизации, то есть приведения текста в числовые векторы, для начала обработаем текст, приведя все буквы к одному виду. Текст будет представлять собой набор строчных латинских (английских) букв, среди них не будет общих слов, таких как or, but, etc.\n",
    "В данном случае для векторизации будет использован метод TF-IDF, учитывающий частоту слова и его значимость по отношению к другим словам текста."
   ]
  },
  {
   "cell_type": "code",
   "execution_count": 89,
   "id": "19e8d6ed-4ecc-49f6-a953-34bf520076b5",
   "metadata": {},
   "outputs": [],
   "source": [
    "from sklearn.feature_extraction.text import TfidfVectorizer\n",
    "from sklearn.model_selection import train_test_split\n",
    "\n",
    "tfidf_vectorizer = TfidfVectorizer(stop_words='english', lowercase=True)\n",
    "X = tfidf_vectorizer.fit_transform(train_data['text'])\n",
    "y = train_data['text_type']\n",
    "\n",
    "X_train, X_test, y_train, y_test = train_test_split(X, y, test_size=0.2, random_state=42)"
   ]
  },
  {
   "cell_type": "code",
   "execution_count": 90,
   "id": "86af5210-184f-4daa-a720-ab494c52e948",
   "metadata": {},
   "outputs": [],
   "source": [
    "from sklearn.naive_bayes import MultinomialNB\n",
    "from sklearn.metrics import classification_report, accuracy_score\n",
    "\n",
    "# Обучение модели\n",
    "model = MultinomialNB()\n",
    "model.fit(X_train, y_train)\n",
    "\n",
    "# Оценка модели на тестовых данных\n",
    "y_pred = model.predict(X_test)"
   ]
  },
  {
   "cell_type": "markdown",
   "id": "21fb605e-0e29-4106-be8d-60069f60a45f",
   "metadata": {},
   "source": [
    "Итоги классификации и полученная точность:"
   ]
  },
  {
   "cell_type": "code",
   "execution_count": 91,
   "id": "cad153eb-6bbf-418f-a14e-19081011ee3f",
   "metadata": {},
   "outputs": [
    {
     "name": "stdout",
     "output_type": "stream",
     "text": [
      "              precision    recall  f1-score   support\n",
      "\n",
      "         ham       0.87      0.98      0.93      2321\n",
      "        spam       0.94      0.65      0.77       935\n",
      "\n",
      "    accuracy                           0.89      3256\n",
      "   macro avg       0.90      0.82      0.85      3256\n",
      "weighted avg       0.89      0.89      0.88      3256\n",
      "\n",
      "Точность: 0.8866707616707616\n"
     ]
    }
   ],
   "source": [
    "print(classification_report(y_test, y_pred))\n",
    "print(\"Точность:\", accuracy_score(y_test, y_pred))"
   ]
  },
  {
   "cell_type": "code",
   "execution_count": 92,
   "id": "d1a2f7a1-43ca-4dd2-8169-b3a0c4b2fb69",
   "metadata": {},
   "outputs": [],
   "source": [
    "# Загрузка тестового датасета\n",
    "test_data = pd.read_csv(\"test_spam.csv\")\n",
    "\n",
    "# Применение TF-IDF и модели для предсказания\n",
    "test_vectorized = tfidf_vectorizer.transform(test_data['text'])\n",
    "test_predictions = model.predict(test_vectorized)\n",
    "\n",
    "# Добавление предсказаний в новый датасет и сохранение в CSV\n",
    "test_data['score'] = test_predictions\n",
    "result_df = test_data[['score', 'text']]\n",
    "\n",
    "# Сохранение в CSV-файл\n",
    "result_df.to_csv(\"scored_results.csv\", index=False)"
   ]
  },
  {
   "cell_type": "code",
   "execution_count": 93,
   "id": "ce9f4374-80c4-4550-b431-cc6340b23190",
   "metadata": {},
   "outputs": [
    {
     "name": "stdout",
     "output_type": "stream",
     "text": [
      "Распределение классов:\n",
      "score\n",
      "ham     3255\n",
      "spam     815\n",
      "Name: count, dtype: int64\n"
     ]
    },
    {
     "data": {
      "image/png": "[encoded data removed]",
      "text/plain": [
       "<Figure size 640x480 with 1 Axes>"
      ]
     },
     "metadata": {},
     "output_type": "display_data"
    }
   ],
   "source": [
    "labeled_data = pd.read_csv(\"scored_results.csv\")\n",
    "class_counts = labeled_data['score'].value_counts()\n",
    "print(\"Распределение классов:\")\n",
    "print(class_counts)\n",
    "\n",
    "sns.countplot(x='score', data=labeled_data)\n",
    "plt.title(\"Распределение классов (спам/не спам)\")\n",
    "plt.show()"
   ]
  },
  {
   "cell_type": "markdown",
   "id": "80ff07dd-352b-4edd-b3dd-e9d656bb9ed6",
   "metadata": {},
   "source": [
    "### Второй способ"
   ]
  },
  {
   "cell_type": "code",
   "execution_count": 94,
   "id": "f52b5981-53d6-421a-b6e5-da69d9ce1fa5",
   "metadata": {},
   "outputs": [],
   "source": [
    "train_data = pd.read_csv(\"train_spam.csv\")\n",
    "\n",
    "# Очистка текста и векторизация с использованием TF-IDF\n",
    "tfidf_vectorizer = TfidfVectorizer(\n",
    "    stop_words='english', \n",
    "    lowercase=True, \n",
    "    ngram_range=(1, 2),  # Использование униграмм и биграмм\n",
    "    min_df=2,  # Минимальная частота документов\n",
    "    max_df=0.9  # Максимальная частота документов\n",
    ")\n",
    "X = tfidf_vectorizer.fit_transform(train_data['text'])\n",
    "y = train_data['text_type']"
   ]
  },
  {
   "cell_type": "code",
   "execution_count": 95,
   "id": "a2e6ea56-8794-4ca1-931d-4fc912c00782",
   "metadata": {},
   "outputs": [
    {
     "name": "stdout",
     "output_type": "stream",
     "text": [
      "Точность: 0.902948402948403\n",
      "Отчет о классификации:\n",
      "              precision    recall  f1-score   support\n",
      "\n",
      "         ham       0.89      0.98      0.93      2294\n",
      "        spam       0.94      0.72      0.81       962\n",
      "\n",
      "    accuracy                           0.90      3256\n",
      "   macro avg       0.92      0.85      0.87      3256\n",
      "weighted avg       0.91      0.90      0.90      3256\n",
      "\n"
     ]
    }
   ],
   "source": [
    "# Разделение данных\n",
    "X_train, X_test, y_train, y_test = train_test_split(\n",
    "    X, y, test_size=0.2, random_state=42, stratify=y\n",
    ")\n",
    "\n",
    "# Обучение модели\n",
    "model = MultinomialNB()\n",
    "model.fit(X_train, y_train)\n",
    "\n",
    "# Оценка модели на тестовых данных\n",
    "y_pred = model.predict(X_test)\n",
    "print(\"Точность:\", accuracy_score(y_test, y_pred))\n",
    "print(\"Отчет о классификации:\")\n",
    "print(classification_report(y_test, y_pred))"
   ]
  },
  {
   "cell_type": "code",
   "execution_count": 96,
   "id": "b67e90ac-ba5c-4bf4-961b-17e0f4a27512",
   "metadata": {},
   "outputs": [],
   "source": [
    "\n",
    "# Загрузка тестового датасета\n",
    "test_data = pd.read_csv(\"test_spam.csv\")\n",
    "\n",
    "# Векторизация тестовых данных с использованием той же TF-IDF модели\n",
    "test_vectorized = tfidf_vectorizer.transform(test_data['text'])\n",
    "\n",
    "# Предсказание с использованием обученной модели\n",
    "test_predictions = model.predict(test_vectorized)\n",
    "\n",
    "# Добавление предсказаний в датасет и сохранение в CSV\n",
    "test_data['score'] = test_predictions\n",
    "result_df = test_data[['score', 'text']]\n",
    "result_df.to_csv(\"scored_results_2.csv\", index=False)"
   ]
  },
  {
   "cell_type": "code",
   "execution_count": 97,
   "id": "67156485-aac9-4821-af17-1c950caafb5f",
   "metadata": {},
   "outputs": [
    {
     "name": "stdout",
     "output_type": "stream",
     "text": [
      "Распределение классов:\n",
      "score\n",
      "ham     3195\n",
      "spam     875\n",
      "Name: count, dtype: int64\n"
     ]
    },
    {
     "data": {
      "image/png": "[encoded data removed]",
      "text/plain": [
       "<Figure size 640x480 with 1 Axes>"
      ]
     },
     "metadata": {},
     "output_type": "display_data"
    }
   ],
   "source": [
    "labeled_data = pd.read_csv(\"scored_results_2.csv\")\n",
    "class_counts = labeled_data['score'].value_counts()\n",
    "print(\"Распределение классов:\")\n",
    "print(class_counts)\n",
    "\n",
    "sns.countplot(x='score', data=labeled_data)\n",
    "plt.title(\"Распределение классов (спам/не спам)\")\n",
    "plt.show()"
   ]
  },
  {
   "cell_type": "code",
   "execution_count": null,
   "id": "69648130-f083-4bed-bd1e-1b55e353f00e",
   "metadata": {},
   "outputs": [],
   "source": []
  }
 ],
 "metadata": {
  "kernelspec": {
   "display_name": "Python 3 (ipykernel)",
   "language": "python",
   "name": "python3"
  },
  "language_info": {
   "codemirror_mode": {
    "name": "ipython",
    "version": 3
   },
   "file_extension": ".py",
   "mimetype": "text/x-python",
   "name": "python",
   "nbconvert_exporter": "python",
   "pygments_lexer": "ipython3",
   "version": "3.12.2"
  }
 },
 "nbformat": 4,
 "nbformat_minor": 5
}
